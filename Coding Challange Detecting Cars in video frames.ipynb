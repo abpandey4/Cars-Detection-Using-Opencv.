{
 "cells": [
  {
   "cell_type": "markdown",
   "metadata": {},
   "source": [
    "## OpenCV Python program to detect cars in video frame"
   ]
  },
  {
   "cell_type": "code",
   "execution_count": 1,
   "metadata": {},
   "outputs": [],
   "source": [
    "# Importing the library of opencv \n",
    "\n",
    "import cv2\n",
    "import time \n",
    "\n",
    "# capture frames from a video\n",
    "\n",
    "cap = cv2.VideoCapture(\"/Users/abhishek/Downloads/video.avi\")\n",
    "\n",
    "# Pre-trained XML classifiers describes some features of some object we want to detect\n",
    "\n",
    "car_cascade = cv2.CascadeClassifier('/Users/abhishek/Downloads/Simple_Vehicle_Detection-master/cars.xml')\n",
    "\n",
    "# loop runs if capturing has been initialized.\n",
    "\n",
    "while True:\n",
    "    \n",
    "    # reads frames from a video\n",
    "    \n",
    "    ret, frames = cap.read()\n",
    "    if ret:\n",
    "        \n",
    "         # convert to gray scale of each frames\n",
    "            \n",
    "        gray = cv2.cvtColor(frames, cv2.COLOR_BGR2GRAY)\n",
    "        \n",
    "        # Detects cars of different sizes in the input image\n",
    "        \n",
    "        cars = car_cascade.detectMultiScale(gray, 1.1, 1)\n",
    "        \n",
    "        # To draw a rectangle in each cars\n",
    "    \n",
    "        for (x,y,w,h) in cars:\n",
    "            cv2.rectangle(frames,(x,y),(x+w,y+h),(0,0,255),2)\n",
    "            \n",
    "         # Display frames in a window \n",
    "        \n",
    "        cv2.imshow('video2', frames)\n",
    "        if cv2.waitKey(33) == 27:\n",
    "            break\n",
    "    else:\n",
    "         break\n",
    "            \n",
    "# De-allocate any associated memory usage   \n",
    "        \n",
    "cv2.destroyAllWindows() "
   ]
  },
  {
   "cell_type": "code",
   "execution_count": null,
   "metadata": {},
   "outputs": [],
   "source": []
  }
 ],
 "metadata": {
  "kernelspec": {
   "display_name": "Python 3",
   "language": "python",
   "name": "python3"
  },
  "language_info": {
   "codemirror_mode": {
    "name": "ipython",
    "version": 3
   },
   "file_extension": ".py",
   "mimetype": "text/x-python",
   "name": "python",
   "nbconvert_exporter": "python",
   "pygments_lexer": "ipython3",
   "version": "3.7.9"
  }
 },
 "nbformat": 4,
 "nbformat_minor": 4
}
